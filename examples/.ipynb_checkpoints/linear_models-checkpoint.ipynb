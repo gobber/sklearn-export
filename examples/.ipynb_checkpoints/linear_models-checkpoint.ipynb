{
 "cells": [
  {
   "cell_type": "markdown",
   "metadata": {},
   "source": [
    "## Exporting trained models\n",
    "\n",
    "This file contains examples of exporting trained models from `sklearn` library.\n",
    "\n",
    "### Loading common packages\n",
    "Instaling the `sklearn-export` using pip."
   ]
  },
  {
   "cell_type": "code",
   "execution_count": null,
   "metadata": {},
   "outputs": [],
   "source": [
    "import sys\n",
    "!{sys.executable} -m pip install sklearn_export"
   ]
  },
  {
   "cell_type": "markdown",
   "metadata": {},
   "source": [
    "Loading common packages."
   ]
  },
  {
   "cell_type": "code",
   "execution_count": 182,
   "metadata": {
    "ExecuteTime": {
     "end_time": "2021-04-20T17:27:30.651482Z",
     "start_time": "2021-04-20T17:27:30.626340Z"
    }
   },
   "outputs": [],
   "source": [
    "import numpy as np\n",
    "import json\n",
    "from sklearn.datasets import load_iris, load_diabetes, load_breast_cancer\n",
    "from sklearn_export import Export\n",
    "from sklearn.model_selection import train_test_split"
   ]
  },
  {
   "cell_type": "markdown",
   "metadata": {},
   "source": [
    "### Exporting a simple linear classifier\n",
    "\n",
    "One of the simplest classification models is Logistic Regression."
   ]
  },
  {
   "cell_type": "code",
   "execution_count": 183,
   "metadata": {
    "ExecuteTime": {
     "end_time": "2021-04-20T17:27:31.162001Z",
     "start_time": "2021-04-20T17:27:31.156638Z"
    }
   },
   "outputs": [],
   "source": [
    "from sklearn.linear_model import LogisticRegression"
   ]
  },
  {
   "cell_type": "markdown",
   "metadata": {},
   "source": [
    "Let us split the iris dataset in train/test sets."
   ]
  },
  {
   "cell_type": "code",
   "execution_count": 184,
   "metadata": {
    "ExecuteTime": {
     "end_time": "2021-04-20T17:27:31.647704Z",
     "start_time": "2021-04-20T17:27:31.630775Z"
    }
   },
   "outputs": [],
   "source": [
    "# Load data and spliting in train and test sets\n",
    "X, y = load_iris(return_X_y=True)\n",
    "X_train, X_test, y_train, y_test = train_test_split(X, y, test_size=0.15, random_state=42)"
   ]
  },
  {
   "cell_type": "markdown",
   "metadata": {},
   "source": [
    "Now, we can train a Logistic Regression classifier on iris training data."
   ]
  },
  {
   "cell_type": "code",
   "execution_count": 185,
   "metadata": {
    "ExecuteTime": {
     "end_time": "2021-04-20T17:27:32.078827Z",
     "start_time": "2021-04-20T17:27:32.023333Z"
    }
   },
   "outputs": [],
   "source": [
    "# Training a multiclass model\n",
    "clf = LogisticRegression()\n",
    "clf = clf.fit(X_train, y_train)"
   ]
  },
  {
   "cell_type": "markdown",
   "metadata": {},
   "source": [
    "It is easy to export the model, using `sklearn-export`. Since we have more than two classes, then it is considered a multiclass problem. "
   ]
  },
  {
   "cell_type": "code",
   "execution_count": 186,
   "metadata": {
    "ExecuteTime": {
     "end_time": "2021-04-20T17:27:32.391797Z",
     "start_time": "2021-04-20T17:27:32.380241Z"
    },
    "scrolled": false
   },
   "outputs": [
    {
     "data": {
      "text/plain": [
       "{'type': 'MulticlassLogisticRegression',\n",
       " 'coefficients': [-0.4111635345026534,\n",
       "  0.5014427857156071,\n",
       "  -0.09027925121295816,\n",
       "  0.9567487657508645,\n",
       "  -0.24516272354360685,\n",
       "  -0.7115860422072594,\n",
       "  -2.40210144301465,\n",
       "  -0.21668110335362667,\n",
       "  2.618782546368286,\n",
       "  -1.0169844325985156,\n",
       "  -0.7962492446803879,\n",
       "  1.8132336772789102],\n",
       " 'numRows': 3,\n",
       " 'numColumns': 4,\n",
       " 'intercept': [9.269282335394589, 1.9347554260562954, -11.204037761450788]}"
      ]
     },
     "execution_count": 186,
     "metadata": {},
     "output_type": "execute_result"
    }
   ],
   "source": [
    "# Exporting the model\n",
    "export = Export(clf)\n",
    "result = export.to_json(filename='classifier.json')\n",
    "result"
   ]
  },
  {
   "cell_type": "markdown",
   "metadata": {},
   "source": [
    "It is easy to load the file and have the model data in an dict again."
   ]
  },
  {
   "cell_type": "code",
   "execution_count": 187,
   "metadata": {
    "ExecuteTime": {
     "end_time": "2021-04-20T17:27:32.750959Z",
     "start_time": "2021-04-20T17:27:32.742759Z"
    },
    "scrolled": true
   },
   "outputs": [
    {
     "data": {
      "text/plain": [
       "{'coefficients': [-0.4111635345026534,\n",
       "  0.5014427857156071,\n",
       "  -0.09027925121295816,\n",
       "  0.9567487657508645,\n",
       "  -0.24516272354360685,\n",
       "  -0.7115860422072594,\n",
       "  -2.40210144301465,\n",
       "  -0.21668110335362667,\n",
       "  2.618782546368286,\n",
       "  -1.0169844325985156,\n",
       "  -0.7962492446803879,\n",
       "  1.8132336772789102],\n",
       " 'intercept': [9.269282335394589, 1.9347554260562954, -11.204037761450788],\n",
       " 'numColumns': 4,\n",
       " 'numRows': 3,\n",
       " 'type': 'MulticlassLogisticRegression'}"
      ]
     },
     "execution_count": 187,
     "metadata": {},
     "output_type": "execute_result"
    }
   ],
   "source": [
    "# Opening JSON file\n",
    "f = open('classifier.json')\n",
    "\n",
    "# Transforming in a dict (same as result above)\n",
    "model_data = json.load(f)\n",
    "model_data"
   ]
  },
  {
   "cell_type": "markdown",
   "metadata": {},
   "source": [
    "The prediction using Logistic Regression is just a linear product between the coefficients followed by a sigmoid activation. If we deal with a multiclass problem, then the output is a one hot encoding representation of the propabilities, otherwise it is just the probability of a sample to be from class one. So, it is easy to implement it as a python method."
   ]
  },
  {
   "cell_type": "code",
   "execution_count": 188,
   "metadata": {
    "ExecuteTime": {
     "end_time": "2021-04-20T17:27:33.120956Z",
     "start_time": "2021-04-20T17:27:33.110321Z"
    }
   },
   "outputs": [],
   "source": [
    "# A logistic regression prediction implemented in pure python\n",
    "def logistic_regression_predict(X, model_data, threshold = 0.5): \n",
    "    \n",
    "    # Loading structures from model_data\n",
    "    numRows = model_data['numRows']\n",
    "    numColumns = model_data['numColumns']\n",
    "    coefs = np.asarray(model_data['coefficients']).reshape(numRows, numColumns, order='F')\n",
    "    intercepts = np.asarray(model_data['intercept'])\n",
    "    \n",
    "    # Sigmoid function\n",
    "    sigmoid = lambda z: 1/(1 + np.exp(-z))\n",
    "    \n",
    "    # Prediction using Logistic Regression\n",
    "    h = sigmoid(np.dot(X, coefs.T) + intercepts)\n",
    "    \n",
    "    # Verify if it is a binary or multiclass model\n",
    "    if model_data['type'] == 'BinaryLogisticRegression':    \n",
    "        return np.where(h >= threshold, 1, 0).flatten()\n",
    "    else:\n",
    "        return np.argmax(h, axis=1)"
   ]
  },
  {
   "cell_type": "markdown",
   "metadata": {},
   "source": [
    "Let us test it, the values are equivalent to `clf.predict(X_test)`."
   ]
  },
  {
   "cell_type": "code",
   "execution_count": 189,
   "metadata": {
    "ExecuteTime": {
     "end_time": "2021-04-20T17:27:33.486840Z",
     "start_time": "2021-04-20T17:27:33.479497Z"
    },
    "scrolled": false
   },
   "outputs": [
    {
     "data": {
      "text/plain": [
       "array([1, 0, 2, 1, 1, 0, 1, 2, 1, 1, 2, 0, 0, 0, 0, 1, 2, 1, 1, 2, 0, 2,\n",
       "       0])"
      ]
     },
     "execution_count": 189,
     "metadata": {},
     "output_type": "execute_result"
    }
   ],
   "source": [
    "y_test_pred = logistic_regression_predict(X_test, model_data)\n",
    "y_test_pred"
   ]
  },
  {
   "cell_type": "markdown",
   "metadata": {},
   "source": [
    "We can also train a binary model and export it using `sklearn-export`."
   ]
  },
  {
   "cell_type": "code",
   "execution_count": 190,
   "metadata": {
    "ExecuteTime": {
     "end_time": "2021-04-20T17:27:34.703351Z",
     "start_time": "2021-04-20T17:27:33.848685Z"
    },
    "scrolled": true
   },
   "outputs": [
    {
     "data": {
      "text/plain": [
       "{'type': 'BinaryLogisticRegression',\n",
       " 'coefficients': [1.0626825351029405,\n",
       "  0.207700479130765,\n",
       "  -0.3151109050235008,\n",
       "  0.021851677397795394,\n",
       "  -0.17248139556008463,\n",
       "  -0.2354072815720348,\n",
       "  -0.5431771843727237,\n",
       "  -0.3018785250723484,\n",
       "  -0.279126469718788,\n",
       "  -0.03712698707083015,\n",
       "  -0.09519598168145216,\n",
       "  1.4983661241518935,\n",
       "  -0.27943868911610087,\n",
       "  -0.08106420275054811,\n",
       "  -0.02640924428136126,\n",
       "  0.05258594188216266,\n",
       "  -0.04579926137569867,\n",
       "  -0.038933782237984355,\n",
       "  -0.0425608497308384,\n",
       "  0.011144362638684105,\n",
       "  0.15892309566430088,\n",
       "  -0.4765936832970375,\n",
       "  -0.026876210631710383,\n",
       "  -0.016469784651761566,\n",
       "  -0.3436359030204391,\n",
       "  -0.7592426124916646,\n",
       "  -1.457670507197651,\n",
       "  -0.5709249630073063,\n",
       "  -0.8469757152408383,\n",
       "  -0.10466683627688866],\n",
       " 'numRows': 1,\n",
       " 'numColumns': 30,\n",
       " 'intercept': [25.67346438652212]}"
      ]
     },
     "execution_count": 190,
     "metadata": {},
     "output_type": "execute_result"
    }
   ],
   "source": [
    "# Load data and spliting in train and test sets\n",
    "X_bin, y_bin = load_breast_cancer(return_X_y=True)\n",
    "X_train_bin, X_test_bin, y_train_bin, y_test_bin = train_test_split(X_bin, y_bin, test_size=0.15, random_state=42)\n",
    "\n",
    "# Training a binary model\n",
    "clf = LogisticRegression(max_iter=10000)\n",
    "clf = clf.fit(X_train_bin, y_train_bin)\n",
    "\n",
    "# Exporting the model\n",
    "export = Export(clf)\n",
    "result = export.to_json(filename='bin_classifier.json')\n",
    "result"
   ]
  },
  {
   "cell_type": "markdown",
   "metadata": {},
   "source": [
    "The process to load and apply the model is the same, since the method `logistic_regression_predict` supports binary, multiclass and multinomial classification."
   ]
  },
  {
   "cell_type": "code",
   "execution_count": 191,
   "metadata": {
    "ExecuteTime": {
     "end_time": "2021-04-20T17:27:34.717381Z",
     "start_time": "2021-04-20T17:27:34.706956Z"
    }
   },
   "outputs": [
    {
     "data": {
      "text/plain": [
       "array([1, 0, 0, 1, 1, 0, 0, 0, 1, 1, 1, 0, 1, 0, 1, 0, 1, 1, 1, 0, 1, 1,\n",
       "       0, 1, 1, 1, 1, 1, 1, 0, 1, 1, 1, 1, 1, 1, 0, 1, 0, 1, 1, 0, 1, 1,\n",
       "       1, 1, 1, 1, 1, 1, 0, 0, 1, 1, 1, 1, 1, 0, 1, 1, 1, 0, 0, 1, 1, 1,\n",
       "       0, 0, 1, 1, 0, 0, 1, 0, 1, 1, 1, 1, 1, 1, 0, 1, 1, 0, 0, 0])"
      ]
     },
     "execution_count": 191,
     "metadata": {},
     "output_type": "execute_result"
    }
   ],
   "source": [
    "# Opening JSON file\n",
    "f = open('bin_classifier.json')\n",
    "\n",
    "# Transforming in a dict (same as result above)\n",
    "model_data_bin = json.load(f)\n",
    "\n",
    "# Applying the model\n",
    "y_test_pred = logistic_regression_predict(X_test_bin, model_data_bin)\n",
    "y_test_pred"
   ]
  },
  {
   "cell_type": "markdown",
   "metadata": {},
   "source": [
    "### Export a simple linear regression model\n",
    "\n",
    "Another common machine learning model is Linear Regression. "
   ]
  },
  {
   "cell_type": "code",
   "execution_count": 192,
   "metadata": {
    "ExecuteTime": {
     "end_time": "2021-04-20T17:27:34.727901Z",
     "start_time": "2021-04-20T17:27:34.720983Z"
    }
   },
   "outputs": [],
   "source": [
    "from sklearn.linear_model import LinearRegression"
   ]
  },
  {
   "cell_type": "markdown",
   "metadata": {},
   "source": [
    "To exemplify Linear Regression let us use the diabetes dataset."
   ]
  },
  {
   "cell_type": "code",
   "execution_count": 193,
   "metadata": {
    "ExecuteTime": {
     "end_time": "2021-04-20T17:27:35.010506Z",
     "start_time": "2021-04-20T17:27:34.973604Z"
    }
   },
   "outputs": [],
   "source": [
    "# Load data and spliting in train and test sets\n",
    "X, y = load_diabetes(return_X_y=True)\n",
    "X_train, X_test, y_train, y_test = train_test_split(X, y, test_size=0.15, random_state=42)"
   ]
  },
  {
   "cell_type": "markdown",
   "metadata": {},
   "source": [
    "Let us train a linear regression model."
   ]
  },
  {
   "cell_type": "code",
   "execution_count": 194,
   "metadata": {
    "ExecuteTime": {
     "end_time": "2021-04-20T17:27:35.354324Z",
     "start_time": "2021-04-20T17:27:35.347188Z"
    }
   },
   "outputs": [],
   "source": [
    "# Training a linear regression model\n",
    "reg = LinearRegression()\n",
    "reg = reg.fit(X_train, y_train)"
   ]
  },
  {
   "cell_type": "markdown",
   "metadata": {},
   "source": [
    "Now, we can export the model using `sklearn-export`."
   ]
  },
  {
   "cell_type": "code",
   "execution_count": 195,
   "metadata": {
    "ExecuteTime": {
     "end_time": "2021-04-20T17:27:35.734587Z",
     "start_time": "2021-04-20T17:27:35.726475Z"
    },
    "scrolled": true
   },
   "outputs": [
    {
     "data": {
      "text/plain": [
       "{'type': 'LinearRegression',\n",
       " 'coefficients': [48.99364574197365,\n",
       "  -259.21566993946186,\n",
       "  546.1448869918012,\n",
       "  334.8479656112388,\n",
       "  -941.2605767800529,\n",
       "  522.9857566947101,\n",
       "  188.0695888010302,\n",
       "  288.08908840310215,\n",
       "  734.4797225998652,\n",
       "  65.97918206039108],\n",
       " 'intercept': [151.55991925367033]}"
      ]
     },
     "execution_count": 195,
     "metadata": {},
     "output_type": "execute_result"
    }
   ],
   "source": [
    "# Exporting the model\n",
    "export = Export(reg)\n",
    "result = export.to_json(filename='regression.json')\n",
    "result"
   ]
  },
  {
   "cell_type": "markdown",
   "metadata": {},
   "source": [
    "To load data we follow the same process."
   ]
  },
  {
   "cell_type": "code",
   "execution_count": 196,
   "metadata": {
    "ExecuteTime": {
     "end_time": "2021-04-20T17:27:36.092684Z",
     "start_time": "2021-04-20T17:27:36.084980Z"
    },
    "scrolled": true
   },
   "outputs": [
    {
     "data": {
      "text/plain": [
       "{'coefficients': [48.99364574197365,\n",
       "  -259.21566993946186,\n",
       "  546.1448869918012,\n",
       "  334.8479656112388,\n",
       "  -941.2605767800529,\n",
       "  522.9857566947101,\n",
       "  188.0695888010302,\n",
       "  288.08908840310215,\n",
       "  734.4797225998652,\n",
       "  65.97918206039108],\n",
       " 'intercept': [151.55991925367033],\n",
       " 'type': 'LinearRegression'}"
      ]
     },
     "execution_count": 196,
     "metadata": {},
     "output_type": "execute_result"
    }
   ],
   "source": [
    "# Opening JSON file\n",
    "f = open('regression.json')\n",
    "\n",
    "# Transforming in a dict (same as result above)\n",
    "model_data = json.load(f)\n",
    "model_data"
   ]
  },
  {
   "cell_type": "markdown",
   "metadata": {},
   "source": [
    "To predict new values using linear regression we just need a linear combination between the inputs and the coefficients."
   ]
  },
  {
   "cell_type": "code",
   "execution_count": 197,
   "metadata": {
    "ExecuteTime": {
     "end_time": "2021-04-20T17:27:36.457473Z",
     "start_time": "2021-04-20T17:27:36.452115Z"
    }
   },
   "outputs": [],
   "source": [
    "# A linear regression prediction in pure python\n",
    "def linear_regression_predict(X, model_data):\n",
    "    coefs = np.asarray(model_data['coefficients'])\n",
    "    intercepts = np.asarray(model_data['intercept'])\n",
    "    h = np.dot(X, coefs) + intercepts\n",
    "    return h"
   ]
  },
  {
   "cell_type": "markdown",
   "metadata": {},
   "source": [
    "Let us test it, the values are equivalent to `reg.predict(X_test)`."
   ]
  },
  {
   "cell_type": "code",
   "execution_count": 198,
   "metadata": {
    "ExecuteTime": {
     "end_time": "2021-04-20T17:27:36.842840Z",
     "start_time": "2021-04-20T17:27:36.834865Z"
    },
    "scrolled": true
   },
   "outputs": [
    {
     "data": {
      "text/plain": [
       "array([141.37778758, 180.7255943 , 134.36241958, 293.08707521,\n",
       "       123.23097217,  94.87463471, 258.19647894, 181.05434575,\n",
       "        88.84583359, 107.96288979,  95.02533371, 166.97965719,\n",
       "        53.13754119, 206.14160297, 100.04688003, 130.09140001,\n",
       "       220.56476013, 251.12055486, 193.64660562, 218.10183003,\n",
       "       207.07382965,  90.10258179,  73.04159918, 188.20478373,\n",
       "       155.62378976, 158.18178827, 186.62437427, 177.98242562,\n",
       "        49.34448643, 108.8547319 , 177.19143043,  86.40053583,\n",
       "       132.93825524, 183.45477116, 176.95402859, 188.3834104 ,\n",
       "       123.89790908, 119.36510788, 148.90535094,  60.85929783,\n",
       "        74.49415162, 108.22594591, 162.71784406, 156.01863679,\n",
       "       172.08866209,  62.93589272,  72.63730594, 118.15249179,\n",
       "        52.23777769, 167.50005324, 153.84129513,  62.19915028,\n",
       "       102.36601143, 111.35188515, 172.55444537, 154.7830712 ,\n",
       "        96.3971005 , 209.27124268, 120.84600962,  81.30997871,\n",
       "       188.96205708, 206.45482559, 140.0458645 , 105.76493727,\n",
       "       130.74542267, 201.90568339, 168.71788238])"
      ]
     },
     "execution_count": 198,
     "metadata": {},
     "output_type": "execute_result"
    }
   ],
   "source": [
    "linear_regression_predict(X_test, model_data)"
   ]
  }
 ],
 "metadata": {
  "kernelspec": {
   "display_name": "Python 3",
   "language": "python",
   "name": "python3"
  },
  "language_info": {
   "codemirror_mode": {
    "name": "ipython",
    "version": 3
   },
   "file_extension": ".py",
   "mimetype": "text/x-python",
   "name": "python",
   "nbconvert_exporter": "python",
   "pygments_lexer": "ipython3",
   "version": "3.7.3"
  }
 },
 "nbformat": 4,
 "nbformat_minor": 2
}
